{
 "cells": [
  {
   "cell_type": "markdown",
   "id": "bf24e8d6",
   "metadata": {},
   "source": [
    "## A. Imports"
   ]
  },
  {
   "cell_type": "markdown",
   "id": "dca05cc0",
   "metadata": {},
   "source": [
    "### A.1 Libraries"
   ]
  },
  {
   "cell_type": "code",
   "execution_count": 1,
   "id": "78ed789e",
   "metadata": {},
   "outputs": [],
   "source": [
    "import pandas as pd\n",
    "from sklearn.svm import SVR\n",
    "from sklearn.linear_model import LinearRegression as LinReg\n",
    "from sklearn.linear_model import Lasso\n",
    "from sklearn.linear_model import Ridge\n",
    "from sklearn.linear_model import ElasticNet\n",
    "from sklearn.ensemble import RandomForestRegressor as RFR\n",
    "from sklearn.model_selection import train_test_split as tts\n",
    "from sklearn.neighbors import KNeighborsRegressor as KNNR\n",
    "from sklearn.metrics import mean_squared_error\n",
    "import math"
   ]
  },
  {
   "cell_type": "markdown",
   "id": "767f5eb1",
   "metadata": {},
   "source": [
    "### A.2 Data"
   ]
  },
  {
   "cell_type": "code",
   "execution_count": 2,
   "id": "27909fff",
   "metadata": {},
   "outputs": [],
   "source": [
    "paket = pd.read_csv('paket.csv')"
   ]
  },
  {
   "cell_type": "markdown",
   "id": "5524e84b",
   "metadata": {},
   "source": [
    "## B. TTS Split"
   ]
  },
  {
   "cell_type": "code",
   "execution_count": 3,
   "id": "30ff2c45",
   "metadata": {},
   "outputs": [
    {
     "data": {
      "text/plain": [
       "((2701, 8), (676, 8), (2701,), (676,))"
      ]
     },
     "execution_count": 3,
     "metadata": {},
     "output_type": "execute_result"
    }
   ],
   "source": [
    "X=paket.drop('price', axis=1)\n",
    "y=paket.price\n",
    "\n",
    "X_train, X_test, y_train, y_test = tts(X, y, test_size=0.2)\n",
    "\n",
    "X_train.shape, X_test.shape, y_train.shape, y_test.shape"
   ]
  },
  {
   "cell_type": "markdown",
   "id": "3c399956",
   "metadata": {},
   "source": [
    "## C. Models"
   ]
  },
  {
   "cell_type": "markdown",
   "id": "4fc4f464",
   "metadata": {},
   "source": [
    "### 1. Linreg, Linreg related models and SVR"
   ]
  },
  {
   "cell_type": "code",
   "execution_count": 4,
   "id": "3db421ab",
   "metadata": {},
   "outputs": [
    {
     "name": "stdout",
     "output_type": "stream",
     "text": [
      "Linreg\n",
      "train 0.42867710498601364\n",
      "test 0.4346799583375742\n",
      "RMSE 77.07182248879393\n",
      "#############################################\n",
      "Lasso\n",
      "train0.42657452839847887\n",
      "test 0.42600090059949514\n",
      "RMSE 77.66119037859826\n",
      "#############################################\n",
      "ElasticNet\n",
      "train0.39936038938714724\n",
      "test 0.39884311257908134\n",
      "RMSE 79.47716206877925\n",
      "#############################################\n",
      "SVR\n",
      "train-0.04720793333677897\n",
      "test -0.04110208173348817\n",
      "RMSE 104.5911877672994\n",
      "#############################################\n"
     ]
    }
   ],
   "source": [
    "#############################################\n",
    "LinReg=LinReg()\n",
    "LinReg.fit(X_train, y_train)\n",
    "print('Linreg')\n",
    "train_score=LinReg.score(X_train, y_train) \n",
    "print('train ' + str(train_score))\n",
    "test_score=LinReg.score(X_test, y_test)\n",
    "print('test ' + str(test_score))\n",
    "y_pred=LinReg.predict(X_test)\n",
    "print('RMSE ' + str(math.sqrt(mean_squared_error(y_test, y_pred))))\n",
    "print('#############################################')\n",
    "#############################################\n",
    "Lasso=Lasso()\n",
    "Lasso.fit(X_train, y_train)\n",
    "print('Lasso')\n",
    "train_score=Lasso.score(X_train, y_train)\n",
    "print('train' + str(train_score))\n",
    "test_score=Lasso.score(X_test, y_test)\n",
    "print('test ' + str(test_score))\n",
    "y_pred=Lasso.predict(X_test)\n",
    "print('RMSE ' + str(math.sqrt(mean_squared_error(y_test, y_pred))))\n",
    "print('#############################################')\n",
    "#############################################\n",
    "ElasticNet=ElasticNet()\n",
    "ElasticNet.fit(X_train, y_train)\n",
    "print('ElasticNet')\n",
    "train_score=ElasticNet.score(X_train, y_train) \n",
    "print('train' + str(train_score))\n",
    "test_score=ElasticNet.score(X_test, y_test)\n",
    "print('test ' + str(test_score))\n",
    "y_pred=ElasticNet.predict(X_test)\n",
    "print('RMSE ' + str(math.sqrt(mean_squared_error(y_test, y_pred))))\n",
    "print('#############################################')\n",
    "#############################################\n",
    "SVR=SVR()\n",
    "SVR.fit(X_train, y_train)\n",
    "print('SVR')\n",
    "train_score=SVR.score(X_train, y_train) \n",
    "print('train' + str(train_score))\n",
    "test_score=SVR.score(X_test, y_test)\n",
    "print('test ' + str(test_score))\n",
    "y_pred=SVR.predict(X_test)\n",
    "print('RMSE ' + str(math.sqrt(mean_squared_error(y_test, y_pred))))\n",
    "print('#############################################')\n",
    "#############################################"
   ]
  },
  {
   "cell_type": "markdown",
   "id": "e7261b82",
   "metadata": {},
   "source": [
    "### 2. Random Forests"
   ]
  },
  {
   "cell_type": "code",
   "execution_count": 5,
   "id": "26b48fb9",
   "metadata": {
    "scrolled": false
   },
   "outputs": [
    {
     "name": "stdout",
     "output_type": "stream",
     "text": [
      "RFR2\n",
      "train 0.7617125222853501\n",
      "test 0.08510334107061623\n",
      "RMSE 98.0470335299527\n",
      "#############################################\n",
      "RFR5\n",
      "train 0.8296846640937493\n",
      "test 0.26363895719432884\n",
      "RMSE 87.96174565244173\n",
      "#############################################\n",
      "RFR50\n",
      "train 0.9015373716639017\n",
      "test 0.38544445872534416\n",
      "RMSE 80.35797924170723\n",
      "#############################################\n",
      "RFR100\n",
      "train 0.9062718458463701\n",
      "test 0.3712149620142696\n",
      "RMSE 81.28296497858612\n",
      "#############################################\n",
      "RFR200\n",
      "train 0.9072286960167436\n",
      "test 0.373749085631604\n",
      "RMSE 81.11900669093322\n",
      "#############################################\n"
     ]
    }
   ],
   "source": [
    "#############################################\n",
    "rfr2=RFR(n_estimators=2)\n",
    "rfr2.fit(X_train, y_train)\n",
    "print('RFR2')\n",
    "train_score=rfr2.score(X_train, y_train) \n",
    "print('train ' + str(train_score))\n",
    "test_score=rfr2.score(X_test, y_test)\n",
    "print('test ' + str(test_score))\n",
    "y_pred=rfr2.predict(X_test)\n",
    "print('RMSE ' + str(math.sqrt(mean_squared_error(y_test, y_pred))))\n",
    "print('#############################################')\n",
    "#############################################\n",
    "rfr5=RFR(n_estimators=5)\n",
    "rfr5.fit(X_train, y_train)\n",
    "print('RFR5')\n",
    "train_score=rfr5.score(X_train, y_train) \n",
    "print('train ' + str(train_score))\n",
    "test_score=rfr5.score(X_test, y_test)\n",
    "print('test ' + str(test_score))\n",
    "y_pred=rfr5.predict(X_test)\n",
    "print('RMSE ' + str(math.sqrt(mean_squared_error(y_test, y_pred))))\n",
    "print('#############################################')\n",
    "#############################################\n",
    "rfr50=RFR(n_estimators=50)\n",
    "rfr50.fit(X_train, y_train)\n",
    "print('RFR50')\n",
    "train_score=rfr50.score(X_train, y_train) \n",
    "print('train ' + str(train_score))\n",
    "test_score=rfr50.score(X_test, y_test)\n",
    "print('test ' + str(test_score))\n",
    "y_pred=rfr50.predict(X_test)\n",
    "print('RMSE ' + str(math.sqrt(mean_squared_error(y_test, y_pred))))\n",
    "print('#############################################')\n",
    "#############################################\n",
    "rfr100=RFR(n_estimators=100)\n",
    "rfr100.fit(X_train, y_train)\n",
    "print('RFR100')\n",
    "train_score=rfr100.score(X_train, y_train) \n",
    "print('train ' + str(train_score))\n",
    "test_score=rfr100.score(X_test, y_test)\n",
    "print('test ' + str(test_score))\n",
    "y_pred=rfr100.predict(X_test)\n",
    "print('RMSE ' + str(math.sqrt(mean_squared_error(y_test, y_pred))))\n",
    "print('#############################################')\n",
    "#############################################\n",
    "rfr200=RFR(n_estimators=200)\n",
    "rfr200.fit(X_train, y_train)\n",
    "print('RFR200')\n",
    "train_score=rfr200.score(X_train, y_train)\n",
    "print('train ' + str(train_score))\n",
    "test_score=rfr200.score(X_test, y_test)\n",
    "print('test ' + str(test_score))\n",
    "y_pred=rfr200.predict(X_test)\n",
    "print('RMSE ' + str(math.sqrt(mean_squared_error(y_test, y_pred))))\n",
    "print('#############################################')\n",
    "#############################################"
   ]
  },
  {
   "cell_type": "markdown",
   "id": "c1446a2c",
   "metadata": {},
   "source": [
    "### 3. KNN Regressor"
   ]
  },
  {
   "cell_type": "markdown",
   "id": "255593ef",
   "metadata": {},
   "source": [
    "Finally discarded due to general poor performance."
   ]
  },
  {
   "cell_type": "code",
   "execution_count": 6,
   "id": "593bbcb7",
   "metadata": {},
   "outputs": [],
   "source": [
    "#knnr=KNNR(n_neighbors=20)\n",
    "#\n",
    "#knnr.fit(X_train, y_train)\n",
    "#    \n",
    "#train_score=knnr.score(X_train, y_train)  # R2\n",
    "#test_score=knnr.score(X_test, y_test)\n",
    "#print(train_score)\n",
    "#print(test_score)"
   ]
  }
 ],
 "metadata": {
  "kernelspec": {
   "display_name": "Python 3 (ipykernel)",
   "language": "python",
   "name": "python3"
  },
  "language_info": {
   "codemirror_mode": {
    "name": "ipython",
    "version": 3
   },
   "file_extension": ".py",
   "mimetype": "text/x-python",
   "name": "python",
   "nbconvert_exporter": "python",
   "pygments_lexer": "ipython3",
   "version": "3.9.7"
  }
 },
 "nbformat": 4,
 "nbformat_minor": 5
}
