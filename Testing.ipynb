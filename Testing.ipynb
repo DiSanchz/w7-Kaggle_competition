{
 "cells": [
  {
   "cell_type": "markdown",
   "id": "985d56a6",
   "metadata": {},
   "source": [
    "# Testing"
   ]
  },
  {
   "cell_type": "markdown",
   "id": "61694be5",
   "metadata": {},
   "source": [
    "The function of this jupyter notebook's function is, once the data has been shaped and the desired model selected, to formulate the prediction and the associated file which is to be uploaded to the Kaggle competition. Instead of being designed to work whit little to no intervention as the 'Modeling'  and 'Processing' notebooks, this one required for the desired model to be coded and specified for the output to be produced. Below it can be seen how a Linear Regression and a Lasso model are programmed. Others could be added but in this case these were the only type of models produced  withins this notebook, the rest of models and predictions were computed employing the H2o library in a separate jupyer."
   ]
  },
  {
   "cell_type": "markdown",
   "id": "d2413a66",
   "metadata": {},
   "source": [
    "### Importing Libraries"
   ]
  },
  {
   "cell_type": "code",
   "execution_count": 1,
   "id": "2ef2cc0e",
   "metadata": {},
   "outputs": [],
   "source": [
    "import pandas as pd\n",
    "from sklearn.model_selection import train_test_split as tts\n",
    "from sklearn.svm import SVR\n",
    "from sklearn.linear_model import LinearRegression as LinReg\n",
    "from sklearn.linear_model import Lasso\n",
    "from sklearn.linear_model import Ridge\n",
    "from sklearn.linear_model import ElasticNet\n",
    "from sklearn.ensemble import RandomForestRegressor as RFR\n",
    "from sklearn.neighbors import KNeighborsRegressor as KNNR"
   ]
  },
  {
   "cell_type": "markdown",
   "id": "d6834e4e",
   "metadata": {},
   "source": [
    "### Train-Test Split"
   ]
  },
  {
   "cell_type": "code",
   "execution_count": 2,
   "id": "2470d62a",
   "metadata": {
    "scrolled": true
   },
   "outputs": [],
   "source": [
    "paket = pd.read_csv('paket.csv')\n",
    "\n",
    "X=paket.drop('price', axis=1)\n",
    "X = X.drop('Unnamed: 0', axis=1)\n",
    "y=paket.price\n",
    "\n",
    "X_train, X_test, y_train, y_test = tts(X, y, test_size=0.2)\n",
    "\n",
    "X_train.shape, X_test.shape, y_train.shape, y_test.shape\n",
    "\n",
    "X_test = pd.read_csv('paket_test.csv')"
   ]
  },
  {
   "cell_type": "markdown",
   "id": "4bf72230",
   "metadata": {},
   "source": [
    "### Ad hoc null value filling"
   ]
  },
  {
   "cell_type": "code",
   "execution_count": 3,
   "id": "8e0e16e5",
   "metadata": {
    "scrolled": true
   },
   "outputs": [
    {
     "data": {
      "text/plain": [
       "sizeinteract           0\n",
       "cleanliness            0\n",
       "bathnum                0\n",
       "Entire_home/apt        0\n",
       "Bath_interact1_1       0\n",
       "Bath_interact2_1       0\n",
       "Bath_interact_1_1_1    0\n",
       "dtype: int64"
      ]
     },
     "execution_count": 3,
     "metadata": {},
     "output_type": "execute_result"
    }
   ],
   "source": [
    "#NaNs Management\n",
    "\n",
    "X_test = X_test.drop('Unnamed: 0', axis=1)\n",
    "#X_test['dist_size_inter'].fillna(X_test['sizeinteract'].mean(),inplace=True)\n",
    "X_test.isna().sum()"
   ]
  },
  {
   "cell_type": "markdown",
   "id": "4ee7b9fc",
   "metadata": {},
   "source": [
    "### Predictor model formulation"
   ]
  },
  {
   "cell_type": "markdown",
   "id": "94bffbb3",
   "metadata": {},
   "source": [
    "Lin-reg and Lasso in this case, but is does not have to be like this necessarily."
   ]
  },
  {
   "cell_type": "code",
   "execution_count": 4,
   "id": "b5100287",
   "metadata": {},
   "outputs": [
    {
     "name": "stdout",
     "output_type": "stream",
     "text": [
      "Linreg\n",
      "train 0.4305730146314204\n"
     ]
    }
   ],
   "source": [
    "LinReg=LinReg()\n",
    "LinReg.fit(X_train, y_train)\n",
    "print('Linreg')\n",
    "train_score=LinReg.score(X_train, y_train) \n",
    "print('train ' + str(train_score))\n",
    "y_pred=LinReg.predict(X_test)\n",
    "#print('test ' + str(test_score))"
   ]
  },
  {
   "cell_type": "code",
   "execution_count": 5,
   "id": "99156ea2",
   "metadata": {},
   "outputs": [
    {
     "name": "stdout",
     "output_type": "stream",
     "text": [
      "Lasso\n",
      "train 0.42274723461080643\n"
     ]
    }
   ],
   "source": [
    "lasso=Lasso()\n",
    "lasso.fit(X_train, y_train)\n",
    "print('Lasso')\n",
    "train_score=lasso.score(X_train, y_train) \n",
    "print('train ' + str(train_score))\n",
    "y_pred=lasso.predict(X_test)"
   ]
  },
  {
   "cell_type": "markdown",
   "id": "f51ede70",
   "metadata": {},
   "source": [
    "### Exporting the prediction"
   ]
  },
  {
   "cell_type": "code",
   "execution_count": 7,
   "id": "0807e416",
   "metadata": {},
   "outputs": [
    {
     "name": "stdout",
     "output_type": "stream",
     "text": [
      "(1389, 2)\n"
     ]
    }
   ],
   "source": [
    "Submission = pd.Series(y_pred)\n",
    "Submission = pd.DataFrame(Submission)\n",
    "Submission.reset_index(inplace=True)\n",
    "Submission.rename(columns={'index':'id'}, inplace=True)\n",
    "Submission.rename(columns={ 0:'price'}, inplace=True)\n",
    "Submission.head()\n",
    "print(Submission.shape)\n",
    "Submission.to_csv('WE.csv', index=False)"
   ]
  },
  {
   "cell_type": "code",
   "execution_count": 9,
   "id": "99474f4f",
   "metadata": {},
   "outputs": [
    {
     "data": {
      "text/html": [
       "<div>\n",
       "<style scoped>\n",
       "    .dataframe tbody tr th:only-of-type {\n",
       "        vertical-align: middle;\n",
       "    }\n",
       "\n",
       "    .dataframe tbody tr th {\n",
       "        vertical-align: top;\n",
       "    }\n",
       "\n",
       "    .dataframe thead th {\n",
       "        text-align: right;\n",
       "    }\n",
       "</style>\n",
       "<table border=\"1\" class=\"dataframe\">\n",
       "  <thead>\n",
       "    <tr style=\"text-align: right;\">\n",
       "      <th></th>\n",
       "      <th>id</th>\n",
       "      <th>price</th>\n",
       "    </tr>\n",
       "  </thead>\n",
       "  <tbody>\n",
       "    <tr>\n",
       "      <th>0</th>\n",
       "      <td>0</td>\n",
       "      <td>71.853836</td>\n",
       "    </tr>\n",
       "    <tr>\n",
       "      <th>1</th>\n",
       "      <td>1</td>\n",
       "      <td>122.899291</td>\n",
       "    </tr>\n",
       "    <tr>\n",
       "      <th>2</th>\n",
       "      <td>2</td>\n",
       "      <td>110.642367</td>\n",
       "    </tr>\n",
       "    <tr>\n",
       "      <th>3</th>\n",
       "      <td>3</td>\n",
       "      <td>136.766635</td>\n",
       "    </tr>\n",
       "    <tr>\n",
       "      <th>4</th>\n",
       "      <td>4</td>\n",
       "      <td>120.133451</td>\n",
       "    </tr>\n",
       "  </tbody>\n",
       "</table>\n",
       "</div>"
      ],
      "text/plain": [
       "   id       price\n",
       "0   0   71.853836\n",
       "1   1  122.899291\n",
       "2   2  110.642367\n",
       "3   3  136.766635\n",
       "4   4  120.133451"
      ]
     },
     "execution_count": 9,
     "metadata": {},
     "output_type": "execute_result"
    }
   ],
   "source": [
    "Submission.head()"
   ]
  }
 ],
 "metadata": {
  "kernelspec": {
   "display_name": "Python 3 (ipykernel)",
   "language": "python",
   "name": "python3"
  },
  "language_info": {
   "codemirror_mode": {
    "name": "ipython",
    "version": 3
   },
   "file_extension": ".py",
   "mimetype": "text/x-python",
   "name": "python",
   "nbconvert_exporter": "python",
   "pygments_lexer": "ipython3",
   "version": "3.9.7"
  }
 },
 "nbformat": 4,
 "nbformat_minor": 5
}
