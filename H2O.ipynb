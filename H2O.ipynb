{
 "cells": [
  {
   "cell_type": "markdown",
   "id": "f599b68d",
   "metadata": {},
   "source": [
    "# Modeling with h2o"
   ]
  },
  {
   "cell_type": "markdown",
   "id": "bcd8b957",
   "metadata": {},
   "source": [
    "In this notebook the h2o library is employed to produce a machine learning model from the dataset generated in the 'Processing' notebook."
   ]
  },
  {
   "cell_type": "markdown",
   "id": "9cef803d",
   "metadata": {},
   "source": [
    "### Importing and intializing h2o"
   ]
  },
  {
   "cell_type": "code",
   "execution_count": 1,
   "id": "41778ffd",
   "metadata": {},
   "outputs": [],
   "source": [
    "import h2o\n",
    "from h2o.automl import H2OAutoML"
   ]
  },
  {
   "cell_type": "code",
   "execution_count": 2,
   "id": "cb23b3bf",
   "metadata": {
    "scrolled": true
   },
   "outputs": [
    {
     "name": "stdout",
     "output_type": "stream",
     "text": [
      "Checking whether there is an H2O instance running at http://localhost:54321 . connected.\n"
     ]
    },
    {
     "data": {
      "text/html": [
       "<div style=\"overflow:auto\"><table style=\"width:50%\"><tr><td>H2O_cluster_uptime:</td>\n",
       "<td>15 mins 30 secs</td></tr>\n",
       "<tr><td>H2O_cluster_timezone:</td>\n",
       "<td>Europe/Berlin</td></tr>\n",
       "<tr><td>H2O_data_parsing_timezone:</td>\n",
       "<td>UTC</td></tr>\n",
       "<tr><td>H2O_cluster_version:</td>\n",
       "<td>3.36.0.3</td></tr>\n",
       "<tr><td>H2O_cluster_version_age:</td>\n",
       "<td>7 days, 15 hours and 47 minutes </td></tr>\n",
       "<tr><td>H2O_cluster_name:</td>\n",
       "<td>H2O_from_python_diego_nfazhu</td></tr>\n",
       "<tr><td>H2O_cluster_total_nodes:</td>\n",
       "<td>1</td></tr>\n",
       "<tr><td>H2O_cluster_free_memory:</td>\n",
       "<td>1.889 Gb</td></tr>\n",
       "<tr><td>H2O_cluster_total_cores:</td>\n",
       "<td>8</td></tr>\n",
       "<tr><td>H2O_cluster_allowed_cores:</td>\n",
       "<td>8</td></tr>\n",
       "<tr><td>H2O_cluster_status:</td>\n",
       "<td>locked, healthy</td></tr>\n",
       "<tr><td>H2O_connection_url:</td>\n",
       "<td>http://localhost:54321</td></tr>\n",
       "<tr><td>H2O_connection_proxy:</td>\n",
       "<td>{\"http\": null, \"https\": null}</td></tr>\n",
       "<tr><td>H2O_internal_security:</td>\n",
       "<td>False</td></tr>\n",
       "<tr><td>Python_version:</td>\n",
       "<td>3.9.7 final</td></tr></table></div>"
      ],
      "text/plain": [
       "--------------------------  -------------------------------\n",
       "H2O_cluster_uptime:         15 mins 30 secs\n",
       "H2O_cluster_timezone:       Europe/Berlin\n",
       "H2O_data_parsing_timezone:  UTC\n",
       "H2O_cluster_version:        3.36.0.3\n",
       "H2O_cluster_version_age:    7 days, 15 hours and 47 minutes\n",
       "H2O_cluster_name:           H2O_from_python_diego_nfazhu\n",
       "H2O_cluster_total_nodes:    1\n",
       "H2O_cluster_free_memory:    1.889 Gb\n",
       "H2O_cluster_total_cores:    8\n",
       "H2O_cluster_allowed_cores:  8\n",
       "H2O_cluster_status:         locked, healthy\n",
       "H2O_connection_url:         http://localhost:54321\n",
       "H2O_connection_proxy:       {\"http\": null, \"https\": null}\n",
       "H2O_internal_security:      False\n",
       "Python_version:             3.9.7 final\n",
       "--------------------------  -------------------------------"
      ]
     },
     "metadata": {},
     "output_type": "display_data"
    }
   ],
   "source": [
    "h2o.init()"
   ]
  },
  {
   "cell_type": "markdown",
   "id": "f78d215a",
   "metadata": {},
   "source": [
    "### Running h2o "
   ]
  },
  {
   "cell_type": "markdown",
   "id": "ed1c8a9f",
   "metadata": {},
   "source": [
    "h2o is run with the selected parameters."
   ]
  },
  {
   "cell_type": "code",
   "execution_count": 64,
   "id": "3f6d0a79",
   "metadata": {
    "scrolled": true
   },
   "outputs": [
    {
     "name": "stdout",
     "output_type": "stream",
     "text": [
      "Parse progress: |████████████████████████████████████████████████████████████████| (done) 100%\n",
      "AutoML progress: |███████████████████████████████████████████████████████████████| (done) 100%\n",
      "Model Details\n",
      "=============\n",
      "H2OStackedEnsembleEstimator :  Stacked Ensemble\n",
      "Model Key:  StackedEnsemble_BestOfFamily_7_AutoML_8_20220224_143041\n",
      "\n",
      "No model summary for this model\n",
      "\n",
      "ModelMetricsRegressionGLM: stackedensemble\n",
      "** Reported on train data. **\n",
      "\n",
      "MSE: 4950.241807906329\n",
      "RMSE: 70.35795483032696\n",
      "MAE: 46.967183297213225\n",
      "RMSLE: 0.3549683005887495\n",
      "R^2: 0.5439820257291558\n",
      "Mean Residual Deviance: 4950.241807906329\n",
      "Null degrees of freedom: 3376\n",
      "Residual degrees of freedom: 3370\n",
      "Null deviance: 36658569.46106011\n",
      "Residual deviance: 16716966.585299673\n",
      "AIC: 38328.29723919774\n",
      "\n",
      "ModelMetricsRegressionGLM: stackedensemble\n",
      "** Reported on cross-validation data. **\n",
      "\n",
      "MSE: 6099.666845800276\n",
      "RMSE: 78.10036392873131\n",
      "MAE: 51.08668843948363\n",
      "RMSLE: 0.3833067531078766\n",
      "R^2: 0.4380965967548739\n",
      "Mean Residual Deviance: 6099.666845800276\n",
      "Null degrees of freedom: 3376\n",
      "Residual degrees of freedom: 3370\n",
      "Null deviance: 36662257.55933917\n",
      "Residual deviance: 20598574.938267533\n",
      "AIC: 39033.40716927311\n"
     ]
    },
    {
     "data": {
      "text/plain": []
     },
     "execution_count": 64,
     "metadata": {},
     "output_type": "execute_result"
    }
   ],
   "source": [
    "train=h2o.import_file('paket_h2o.csv')\n",
    "\n",
    "X=train.columns\n",
    "y='price'\n",
    "X.remove(y)\n",
    "\n",
    "# 20 modelos\n",
    "\n",
    "aml=H2OAutoML(max_models=45, seed=666)\n",
    "aml.train(x=X, y=y, training_frame=train)"
   ]
  },
  {
   "cell_type": "markdown",
   "id": "bd0c791d",
   "metadata": {},
   "source": [
    "### Displaying h2o leaderboard"
   ]
  },
  {
   "cell_type": "code",
   "execution_count": 61,
   "id": "8e9a36e0",
   "metadata": {
    "scrolled": true
   },
   "outputs": [
    {
     "data": {
      "text/html": [
       "<table>\n",
       "<thead>\n",
       "<tr><th>model_id                                               </th><th style=\"text-align: right;\">  mean_residual_deviance</th><th style=\"text-align: right;\">   rmse</th><th style=\"text-align: right;\">    mse</th><th style=\"text-align: right;\">    mae</th><th style=\"text-align: right;\">     rmsle</th></tr>\n",
       "</thead>\n",
       "<tbody>\n",
       "<tr><td>StackedEnsemble_AllModels_4_AutoML_7_20220224_134638   </td><td style=\"text-align: right;\">                 6001.36</td><td style=\"text-align: right;\">77.4684</td><td style=\"text-align: right;\">6001.36</td><td style=\"text-align: right;\">50.3211</td><td style=\"text-align: right;\">  0.376633</td></tr>\n",
       "<tr><td>StackedEnsemble_AllModels_3_AutoML_7_20220224_134638   </td><td style=\"text-align: right;\">                 6011.37</td><td style=\"text-align: right;\">77.533 </td><td style=\"text-align: right;\">6011.37</td><td style=\"text-align: right;\">50.1835</td><td style=\"text-align: right;\">  0.375806</td></tr>\n",
       "<tr><td>StackedEnsemble_BestOfFamily_7_AutoML_7_20220224_134638</td><td style=\"text-align: right;\">                 6019.83</td><td style=\"text-align: right;\">77.5876</td><td style=\"text-align: right;\">6019.83</td><td style=\"text-align: right;\">50.4918</td><td style=\"text-align: right;\">  0.380658</td></tr>\n",
       "<tr><td>StackedEnsemble_BestOfFamily_4_AutoML_7_20220224_134638</td><td style=\"text-align: right;\">                 6021.32</td><td style=\"text-align: right;\">77.5972</td><td style=\"text-align: right;\">6021.32</td><td style=\"text-align: right;\">50.4172</td><td style=\"text-align: right;\">  0.384015</td></tr>\n",
       "<tr><td>StackedEnsemble_BestOfFamily_3_AutoML_7_20220224_134638</td><td style=\"text-align: right;\">                 6032.49</td><td style=\"text-align: right;\">77.6691</td><td style=\"text-align: right;\">6032.49</td><td style=\"text-align: right;\">50.616 </td><td style=\"text-align: right;\">nan       </td></tr>\n",
       "<tr><td>StackedEnsemble_AllModels_7_AutoML_7_20220224_134638   </td><td style=\"text-align: right;\">                 6041.64</td><td style=\"text-align: right;\">77.728 </td><td style=\"text-align: right;\">6041.64</td><td style=\"text-align: right;\">50.637 </td><td style=\"text-align: right;\">  0.379281</td></tr>\n",
       "<tr><td>StackedEnsemble_AllModels_2_AutoML_7_20220224_134638   </td><td style=\"text-align: right;\">                 6044.26</td><td style=\"text-align: right;\">77.7449</td><td style=\"text-align: right;\">6044.26</td><td style=\"text-align: right;\">50.5495</td><td style=\"text-align: right;\">  0.37685 </td></tr>\n",
       "<tr><td>StackedEnsemble_BestOfFamily_2_AutoML_7_20220224_134638</td><td style=\"text-align: right;\">                 6051.96</td><td style=\"text-align: right;\">77.7943</td><td style=\"text-align: right;\">6051.96</td><td style=\"text-align: right;\">50.6635</td><td style=\"text-align: right;\">nan       </td></tr>\n",
       "<tr><td>StackedEnsemble_AllModels_1_AutoML_7_20220224_134638   </td><td style=\"text-align: right;\">                 6092.01</td><td style=\"text-align: right;\">78.0513</td><td style=\"text-align: right;\">6092.01</td><td style=\"text-align: right;\">50.6772</td><td style=\"text-align: right;\">nan       </td></tr>\n",
       "<tr><td>DeepLearning_grid_1_AutoML_7_20220224_134638_model_1   </td><td style=\"text-align: right;\">                 6100.33</td><td style=\"text-align: right;\">78.1046</td><td style=\"text-align: right;\">6100.33</td><td style=\"text-align: right;\">50.3109</td><td style=\"text-align: right;\">nan       </td></tr>\n",
       "<tr><td>StackedEnsemble_BestOfFamily_1_AutoML_7_20220224_134638</td><td style=\"text-align: right;\">                 6104.26</td><td style=\"text-align: right;\">78.1298</td><td style=\"text-align: right;\">6104.26</td><td style=\"text-align: right;\">50.73  </td><td style=\"text-align: right;\">nan       </td></tr>\n",
       "<tr><td>GBM_grid_1_AutoML_7_20220224_134638_model_3            </td><td style=\"text-align: right;\">                 6152.13</td><td style=\"text-align: right;\">78.4355</td><td style=\"text-align: right;\">6152.13</td><td style=\"text-align: right;\">50.9016</td><td style=\"text-align: right;\">  0.380362</td></tr>\n",
       "<tr><td>GLM_1_AutoML_7_20220224_134638                         </td><td style=\"text-align: right;\">                 6170.81</td><td style=\"text-align: right;\">78.5545</td><td style=\"text-align: right;\">6170.81</td><td style=\"text-align: right;\">51.2158</td><td style=\"text-align: right;\">nan       </td></tr>\n",
       "<tr><td>GBM_grid_1_AutoML_7_20220224_134638_model_10           </td><td style=\"text-align: right;\">                 6174.22</td><td style=\"text-align: right;\">78.5762</td><td style=\"text-align: right;\">6174.22</td><td style=\"text-align: right;\">50.9716</td><td style=\"text-align: right;\">  0.385607</td></tr>\n",
       "<tr><td>GBM_grid_1_AutoML_7_20220224_134638_model_4            </td><td style=\"text-align: right;\">                 6177.04</td><td style=\"text-align: right;\">78.5941</td><td style=\"text-align: right;\">6177.04</td><td style=\"text-align: right;\">51.5322</td><td style=\"text-align: right;\">  0.382992</td></tr>\n",
       "<tr><td>GBM_5_AutoML_7_20220224_134638                         </td><td style=\"text-align: right;\">                 6185.69</td><td style=\"text-align: right;\">78.6492</td><td style=\"text-align: right;\">6185.69</td><td style=\"text-align: right;\">51.3477</td><td style=\"text-align: right;\">  0.381186</td></tr>\n",
       "<tr><td>GBM_grid_1_AutoML_7_20220224_134638_model_13           </td><td style=\"text-align: right;\">                 6193.2 </td><td style=\"text-align: right;\">78.6969</td><td style=\"text-align: right;\">6193.2 </td><td style=\"text-align: right;\">51.5666</td><td style=\"text-align: right;\">  0.381529</td></tr>\n",
       "<tr><td>GBM_2_AutoML_7_20220224_134638                         </td><td style=\"text-align: right;\">                 6194.87</td><td style=\"text-align: right;\">78.7075</td><td style=\"text-align: right;\">6194.87</td><td style=\"text-align: right;\">51.2018</td><td style=\"text-align: right;\">  0.380636</td></tr>\n",
       "<tr><td>GBM_grid_1_AutoML_7_20220224_134638_model_7            </td><td style=\"text-align: right;\">                 6198.37</td><td style=\"text-align: right;\">78.7297</td><td style=\"text-align: right;\">6198.37</td><td style=\"text-align: right;\">51.4777</td><td style=\"text-align: right;\">  0.381355</td></tr>\n",
       "<tr><td>GBM_grid_1_AutoML_7_20220224_134638_model_1            </td><td style=\"text-align: right;\">                 6203.42</td><td style=\"text-align: right;\">78.7618</td><td style=\"text-align: right;\">6203.42</td><td style=\"text-align: right;\">51.3963</td><td style=\"text-align: right;\">  0.382908</td></tr>\n",
       "<tr><td>DeepLearning_grid_2_AutoML_7_20220224_134638_model_9   </td><td style=\"text-align: right;\">                 6206.58</td><td style=\"text-align: right;\">78.7819</td><td style=\"text-align: right;\">6206.58</td><td style=\"text-align: right;\">51.9655</td><td style=\"text-align: right;\">  0.396477</td></tr>\n",
       "<tr><td>DeepLearning_grid_1_AutoML_7_20220224_134638_model_8   </td><td style=\"text-align: right;\">                 6208   </td><td style=\"text-align: right;\">78.7909</td><td style=\"text-align: right;\">6208   </td><td style=\"text-align: right;\">50.5829</td><td style=\"text-align: right;\">  0.383246</td></tr>\n",
       "<tr><td>DeepLearning_grid_1_AutoML_7_20220224_134638_model_5   </td><td style=\"text-align: right;\">                 6210.34</td><td style=\"text-align: right;\">78.8057</td><td style=\"text-align: right;\">6210.34</td><td style=\"text-align: right;\">50.419 </td><td style=\"text-align: right;\">nan       </td></tr>\n",
       "<tr><td>DeepLearning_grid_1_AutoML_7_20220224_134638_model_9   </td><td style=\"text-align: right;\">                 6213.26</td><td style=\"text-align: right;\">78.8242</td><td style=\"text-align: right;\">6213.26</td><td style=\"text-align: right;\">51.4276</td><td style=\"text-align: right;\">nan       </td></tr>\n",
       "<tr><td>GBM_3_AutoML_7_20220224_134638                         </td><td style=\"text-align: right;\">                 6214.56</td><td style=\"text-align: right;\">78.8325</td><td style=\"text-align: right;\">6214.56</td><td style=\"text-align: right;\">51.602 </td><td style=\"text-align: right;\">  0.382047</td></tr>\n",
       "<tr><td>DeepLearning_grid_3_AutoML_7_20220224_134638_model_1   </td><td style=\"text-align: right;\">                 6216.81</td><td style=\"text-align: right;\">78.8468</td><td style=\"text-align: right;\">6216.81</td><td style=\"text-align: right;\">51.3607</td><td style=\"text-align: right;\">  0.387205</td></tr>\n",
       "<tr><td>GBM_grid_1_AutoML_7_20220224_134638_model_8            </td><td style=\"text-align: right;\">                 6217.52</td><td style=\"text-align: right;\">78.8513</td><td style=\"text-align: right;\">6217.52</td><td style=\"text-align: right;\">51.7101</td><td style=\"text-align: right;\">  0.384698</td></tr>\n",
       "<tr><td>GBM_grid_1_AutoML_7_20220224_134638_model_6            </td><td style=\"text-align: right;\">                 6223.01</td><td style=\"text-align: right;\">78.8861</td><td style=\"text-align: right;\">6223.01</td><td style=\"text-align: right;\">51.6202</td><td style=\"text-align: right;\">  0.384042</td></tr>\n",
       "<tr><td>GBM_1_AutoML_7_20220224_134638                         </td><td style=\"text-align: right;\">                 6231.63</td><td style=\"text-align: right;\">78.9406</td><td style=\"text-align: right;\">6231.63</td><td style=\"text-align: right;\">51.1967</td><td style=\"text-align: right;\">  0.382718</td></tr>\n",
       "<tr><td>DeepLearning_grid_3_AutoML_7_20220224_134638_model_5   </td><td style=\"text-align: right;\">                 6232.89</td><td style=\"text-align: right;\">78.9487</td><td style=\"text-align: right;\">6232.89</td><td style=\"text-align: right;\">50.9038</td><td style=\"text-align: right;\">  0.384573</td></tr>\n",
       "<tr><td>DeepLearning_grid_1_AutoML_7_20220224_134638_model_7   </td><td style=\"text-align: right;\">                 6234.37</td><td style=\"text-align: right;\">78.958 </td><td style=\"text-align: right;\">6234.37</td><td style=\"text-align: right;\">50.7901</td><td style=\"text-align: right;\">nan       </td></tr>\n",
       "<tr><td>DeepLearning_grid_2_AutoML_7_20220224_134638_model_8   </td><td style=\"text-align: right;\">                 6245.99</td><td style=\"text-align: right;\">79.0315</td><td style=\"text-align: right;\">6245.99</td><td style=\"text-align: right;\">50.9697</td><td style=\"text-align: right;\">  0.384925</td></tr>\n",
       "<tr><td>DeepLearning_grid_2_AutoML_7_20220224_134638_model_1   </td><td style=\"text-align: right;\">                 6260.49</td><td style=\"text-align: right;\">79.1232</td><td style=\"text-align: right;\">6260.49</td><td style=\"text-align: right;\">51.4011</td><td style=\"text-align: right;\">  0.389057</td></tr>\n",
       "<tr><td>GBM_grid_1_AutoML_7_20220224_134638_model_15           </td><td style=\"text-align: right;\">                 6261.05</td><td style=\"text-align: right;\">79.1268</td><td style=\"text-align: right;\">6261.05</td><td style=\"text-align: right;\">51.0393</td><td style=\"text-align: right;\">  0.38269 </td></tr>\n",
       "<tr><td>DeepLearning_grid_2_AutoML_7_20220224_134638_model_5   </td><td style=\"text-align: right;\">                 6264.79</td><td style=\"text-align: right;\">79.1504</td><td style=\"text-align: right;\">6264.79</td><td style=\"text-align: right;\">51.2504</td><td style=\"text-align: right;\">  0.38655 </td></tr>\n",
       "<tr><td>GBM_grid_1_AutoML_7_20220224_134638_model_12           </td><td style=\"text-align: right;\">                 6288.35</td><td style=\"text-align: right;\">79.2991</td><td style=\"text-align: right;\">6288.35</td><td style=\"text-align: right;\">51.1718</td><td style=\"text-align: right;\">  0.383653</td></tr>\n",
       "<tr><td>DeepLearning_grid_3_AutoML_7_20220224_134638_model_8   </td><td style=\"text-align: right;\">                 6289.5 </td><td style=\"text-align: right;\">79.3063</td><td style=\"text-align: right;\">6289.5 </td><td style=\"text-align: right;\">51.2375</td><td style=\"text-align: right;\">  0.388322</td></tr>\n",
       "<tr><td>GBM_4_AutoML_7_20220224_134638                         </td><td style=\"text-align: right;\">                 6320.33</td><td style=\"text-align: right;\">79.5005</td><td style=\"text-align: right;\">6320.33</td><td style=\"text-align: right;\">52.1995</td><td style=\"text-align: right;\">  0.385463</td></tr>\n",
       "<tr><td>GBM_grid_1_AutoML_7_20220224_134638_model_14           </td><td style=\"text-align: right;\">                 6325.41</td><td style=\"text-align: right;\">79.5324</td><td style=\"text-align: right;\">6325.41</td><td style=\"text-align: right;\">52.1116</td><td style=\"text-align: right;\">  0.385699</td></tr>\n",
       "<tr><td>DeepLearning_grid_1_AutoML_7_20220224_134638_model_6   </td><td style=\"text-align: right;\">                 6347.8 </td><td style=\"text-align: right;\">79.6731</td><td style=\"text-align: right;\">6347.8 </td><td style=\"text-align: right;\">52.0743</td><td style=\"text-align: right;\">nan       </td></tr>\n",
       "<tr><td>DeepLearning_grid_3_AutoML_7_20220224_134638_model_9   </td><td style=\"text-align: right;\">                 6355.41</td><td style=\"text-align: right;\">79.7208</td><td style=\"text-align: right;\">6355.41</td><td style=\"text-align: right;\">52.7699</td><td style=\"text-align: right;\">  0.405735</td></tr>\n",
       "<tr><td>StackedEnsemble_BestOfFamily_6_AutoML_7_20220224_134638</td><td style=\"text-align: right;\">                 6363.7 </td><td style=\"text-align: right;\">79.7728</td><td style=\"text-align: right;\">6363.7 </td><td style=\"text-align: right;\">51.4705</td><td style=\"text-align: right;\">  0.38273 </td></tr>\n",
       "<tr><td>GBM_grid_1_AutoML_7_20220224_134638_model_2            </td><td style=\"text-align: right;\">                 6394.98</td><td style=\"text-align: right;\">79.9686</td><td style=\"text-align: right;\">6394.98</td><td style=\"text-align: right;\">52.8908</td><td style=\"text-align: right;\">  0.39016 </td></tr>\n",
       "<tr><td>StackedEnsemble_AllModels_6_AutoML_7_20220224_134638   </td><td style=\"text-align: right;\">                 6471.78</td><td style=\"text-align: right;\">80.4474</td><td style=\"text-align: right;\">6471.78</td><td style=\"text-align: right;\">51.8414</td><td style=\"text-align: right;\">  0.38399 </td></tr>\n",
       "<tr><td>GBM_grid_1_AutoML_7_20220224_134638_model_5            </td><td style=\"text-align: right;\">                 6475.73</td><td style=\"text-align: right;\">80.4719</td><td style=\"text-align: right;\">6475.73</td><td style=\"text-align: right;\">52.9058</td><td style=\"text-align: right;\">  0.390041</td></tr>\n",
       "<tr><td>GBM_grid_1_AutoML_7_20220224_134638_model_9            </td><td style=\"text-align: right;\">                 6490.16</td><td style=\"text-align: right;\">80.5615</td><td style=\"text-align: right;\">6490.16</td><td style=\"text-align: right;\">52.9167</td><td style=\"text-align: right;\">  0.391233</td></tr>\n",
       "<tr><td>DeepLearning_grid_2_AutoML_7_20220224_134638_model_6   </td><td style=\"text-align: right;\">                 6528.47</td><td style=\"text-align: right;\">80.7989</td><td style=\"text-align: right;\">6528.47</td><td style=\"text-align: right;\">53.2444</td><td style=\"text-align: right;\">nan       </td></tr>\n",
       "<tr><td>DeepLearning_1_AutoML_7_20220224_134638                </td><td style=\"text-align: right;\">                 6546.45</td><td style=\"text-align: right;\">80.9102</td><td style=\"text-align: right;\">6546.45</td><td style=\"text-align: right;\">53.6679</td><td style=\"text-align: right;\">  0.408689</td></tr>\n",
       "<tr><td>DeepLearning_grid_3_AutoML_7_20220224_134638_model_6   </td><td style=\"text-align: right;\">                 6556.02</td><td style=\"text-align: right;\">80.9693</td><td style=\"text-align: right;\">6556.02</td><td style=\"text-align: right;\">52.54  </td><td style=\"text-align: right;\">nan       </td></tr>\n",
       "<tr><td>DeepLearning_grid_1_AutoML_7_20220224_134638_model_2   </td><td style=\"text-align: right;\">                 6556.77</td><td style=\"text-align: right;\">80.9739</td><td style=\"text-align: right;\">6556.77</td><td style=\"text-align: right;\">52.9515</td><td style=\"text-align: right;\">nan       </td></tr>\n",
       "<tr><td>DeepLearning_grid_1_AutoML_7_20220224_134638_model_4   </td><td style=\"text-align: right;\">                 6608.34</td><td style=\"text-align: right;\">81.2917</td><td style=\"text-align: right;\">6608.34</td><td style=\"text-align: right;\">53.5482</td><td style=\"text-align: right;\">nan       </td></tr>\n",
       "<tr><td>DRF_1_AutoML_7_20220224_134638                         </td><td style=\"text-align: right;\">                 6656.6 </td><td style=\"text-align: right;\">81.588 </td><td style=\"text-align: right;\">6656.6 </td><td style=\"text-align: right;\">54.4511</td><td style=\"text-align: right;\">  0.398501</td></tr>\n",
       "<tr><td>DeepLearning_grid_2_AutoML_7_20220224_134638_model_7   </td><td style=\"text-align: right;\">                 6709.24</td><td style=\"text-align: right;\">81.9099</td><td style=\"text-align: right;\">6709.24</td><td style=\"text-align: right;\">53.7056</td><td style=\"text-align: right;\">  0.415025</td></tr>\n",
       "<tr><td>DeepLearning_grid_2_AutoML_7_20220224_134638_model_2   </td><td style=\"text-align: right;\">                 6739.93</td><td style=\"text-align: right;\">82.0971</td><td style=\"text-align: right;\">6739.93</td><td style=\"text-align: right;\">52.6063</td><td style=\"text-align: right;\">  0.397525</td></tr>\n",
       "<tr><td>GBM_grid_1_AutoML_7_20220224_134638_model_11           </td><td style=\"text-align: right;\">                 6775.69</td><td style=\"text-align: right;\">82.3146</td><td style=\"text-align: right;\">6775.69</td><td style=\"text-align: right;\">54.3435</td><td style=\"text-align: right;\">  0.404508</td></tr>\n",
       "<tr><td>DeepLearning_grid_3_AutoML_7_20220224_134638_model_4   </td><td style=\"text-align: right;\">                 6796.08</td><td style=\"text-align: right;\">82.4383</td><td style=\"text-align: right;\">6796.08</td><td style=\"text-align: right;\">56.186 </td><td style=\"text-align: right;\">nan       </td></tr>\n",
       "<tr><td>DeepLearning_grid_3_AutoML_7_20220224_134638_model_2   </td><td style=\"text-align: right;\">                 6807.69</td><td style=\"text-align: right;\">82.5087</td><td style=\"text-align: right;\">6807.69</td><td style=\"text-align: right;\">56.5361</td><td style=\"text-align: right;\">  0.440015</td></tr>\n",
       "<tr><td>DeepLearning_grid_3_AutoML_7_20220224_134638_model_3   </td><td style=\"text-align: right;\">                 6867.89</td><td style=\"text-align: right;\">82.8728</td><td style=\"text-align: right;\">6867.89</td><td style=\"text-align: right;\">54.9256</td><td style=\"text-align: right;\">  0.41729 </td></tr>\n",
       "<tr><td>DeepLearning_grid_3_AutoML_7_20220224_134638_model_7   </td><td style=\"text-align: right;\">                 6947.02</td><td style=\"text-align: right;\">83.3488</td><td style=\"text-align: right;\">6947.02</td><td style=\"text-align: right;\">54.3359</td><td style=\"text-align: right;\">  0.419757</td></tr>\n",
       "<tr><td>DeepLearning_grid_2_AutoML_7_20220224_134638_model_3   </td><td style=\"text-align: right;\">                 6947.17</td><td style=\"text-align: right;\">83.3497</td><td style=\"text-align: right;\">6947.17</td><td style=\"text-align: right;\">55.5577</td><td style=\"text-align: right;\">  0.41693 </td></tr>\n",
       "<tr><td>DeepLearning_grid_1_AutoML_7_20220224_134638_model_3   </td><td style=\"text-align: right;\">                 6978.79</td><td style=\"text-align: right;\">83.5392</td><td style=\"text-align: right;\">6978.79</td><td style=\"text-align: right;\">54.8582</td><td style=\"text-align: right;\">  0.42627 </td></tr>\n",
       "<tr><td>DeepLearning_grid_2_AutoML_7_20220224_134638_model_4   </td><td style=\"text-align: right;\">                 7297.69</td><td style=\"text-align: right;\">85.4265</td><td style=\"text-align: right;\">7297.69</td><td style=\"text-align: right;\">56.3728</td><td style=\"text-align: right;\">nan       </td></tr>\n",
       "</tbody>\n",
       "</table>"
      ]
     },
     "metadata": {},
     "output_type": "display_data"
    },
    {
     "data": {
      "text/plain": []
     },
     "execution_count": 61,
     "metadata": {},
     "output_type": "execute_result"
    }
   ],
   "source": [
    "lb=aml.leaderboard\n",
    "\n",
    "lb.head(rows=lb.nrows)"
   ]
  },
  {
   "cell_type": "code",
   "execution_count": 62,
   "id": "b3a112c0",
   "metadata": {
    "scrolled": true
   },
   "outputs": [
    {
     "name": "stdout",
     "output_type": "stream",
     "text": [
      "Model Details\n",
      "=============\n",
      "H2OStackedEnsembleEstimator :  Stacked Ensemble\n",
      "Model Key:  StackedEnsemble_AllModels_4_AutoML_7_20220224_134638\n",
      "\n",
      "No model summary for this model\n",
      "\n",
      "ModelMetricsRegressionGLM: stackedensemble\n",
      "** Reported on train data. **\n",
      "\n",
      "MSE: 4367.06907930702\n",
      "RMSE: 66.08380345672471\n",
      "MAE: 43.522073421041526\n",
      "RMSLE: 0.3305753881561138\n",
      "R^2: 0.5977040976330199\n",
      "Mean Residual Deviance: 4367.06907930702\n",
      "Null degrees of freedom: 3376\n",
      "Residual degrees of freedom: 3364\n",
      "Null deviance: 36658569.46106011\n",
      "Residual deviance: 14747592.280819807\n",
      "AIC: 37917.00942797332\n",
      "\n",
      "ModelMetricsRegressionGLM: stackedensemble\n",
      "** Reported on cross-validation data. **\n",
      "\n",
      "MSE: 6001.35639184639\n",
      "RMSE: 77.46842190109716\n",
      "MAE: 50.32112679813683\n",
      "RMSLE: 0.37663259436246005\n",
      "R^2: 0.4471529895133237\n",
      "Mean Residual Deviance: 6001.35639184639\n",
      "Null degrees of freedom: 3376\n",
      "Residual degrees of freedom: 3365\n",
      "Null deviance: 36689922.40283111\n",
      "Residual deviance: 20266580.53526526\n",
      "AIC: 38988.535494235715\n"
     ]
    },
    {
     "data": {
      "text/plain": []
     },
     "execution_count": 62,
     "metadata": {},
     "output_type": "execute_result"
    }
   ],
   "source": [
    "aml.leader"
   ]
  },
  {
   "cell_type": "markdown",
   "id": "6dff8ad2",
   "metadata": {},
   "source": [
    "### Preparing h2o prediction "
   ]
  },
  {
   "cell_type": "code",
   "execution_count": 63,
   "id": "e8095280",
   "metadata": {
    "scrolled": true
   },
   "outputs": [
    {
     "name": "stdout",
     "output_type": "stream",
     "text": [
      "Parse progress: |████████████████████████████████████████████████████████████████| (done) 100%\n"
     ]
    }
   ],
   "source": [
    "test=h2o.import_file('paket_test.csv')"
   ]
  },
  {
   "cell_type": "code",
   "execution_count": 51,
   "id": "7f2dcfe1",
   "metadata": {
    "scrolled": false
   },
   "outputs": [
    {
     "name": "stdout",
     "output_type": "stream",
     "text": [
      "stackedensemble prediction progress: |███████████████████████████████████████████| (done) 100%\n"
     ]
    },
    {
     "data": {
      "text/plain": [
       "(1389, 1)"
      ]
     },
     "execution_count": 51,
     "metadata": {},
     "output_type": "execute_result"
    }
   ],
   "source": [
    "A = aml.leader.predict(test)\n",
    "A.shape"
   ]
  },
  {
   "cell_type": "markdown",
   "id": "be01f6b8",
   "metadata": {},
   "source": [
    "### Exporting the prediction"
   ]
  },
  {
   "cell_type": "code",
   "execution_count": 52,
   "id": "63e7e93e",
   "metadata": {},
   "outputs": [
    {
     "data": {
      "text/plain": [
       "h2o.frame.H2OFrame"
      ]
     },
     "execution_count": 52,
     "metadata": {},
     "output_type": "execute_result"
    }
   ],
   "source": [
    "type(A)"
   ]
  },
  {
   "cell_type": "code",
   "execution_count": 53,
   "id": "071d7a94",
   "metadata": {},
   "outputs": [],
   "source": [
    "import pandas as pd\n",
    "\n",
    "A = A.as_data_frame()\n",
    "A['id']=[str(i) for i in range(len(A))]\n",
    "A['price']=A['predict']\n",
    "A=A.drop('predict', axis=1)\n",
    "A.head()\n",
    "A.to_csv(\"WE.csv\", index = False, header=True)"
   ]
  },
  {
   "cell_type": "code",
   "execution_count": 54,
   "id": "13a8198a",
   "metadata": {},
   "outputs": [
    {
     "name": "stdout",
     "output_type": "stream",
     "text": [
      "(1389, 2)\n"
     ]
    }
   ],
   "source": [
    "A.head()\n",
    "print(A.shape)"
   ]
  }
 ],
 "metadata": {
  "kernelspec": {
   "display_name": "Python 3 (ipykernel)",
   "language": "python",
   "name": "python3"
  },
  "language_info": {
   "codemirror_mode": {
    "name": "ipython",
    "version": 3
   },
   "file_extension": ".py",
   "mimetype": "text/x-python",
   "name": "python",
   "nbconvert_exporter": "python",
   "pygments_lexer": "ipython3",
   "version": "3.9.7"
  }
 },
 "nbformat": 4,
 "nbformat_minor": 5
}
